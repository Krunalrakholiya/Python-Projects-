{
  "nbformat": 4,
  "nbformat_minor": 0,
  "metadata": {
    "colab": {
      "provenance": [],
      "authorship_tag": "ABX9TyO7jP4eCb073hR/cg9LZpsD",
      "include_colab_link": true
    },
    "kernelspec": {
      "name": "python3",
      "display_name": "Python 3"
    },
    "language_info": {
      "name": "python"
    }
  },
  "cells": [
    {
      "cell_type": "markdown",
      "metadata": {
        "id": "view-in-github",
        "colab_type": "text"
      },
      "source": [
        "<a href=\"https://colab.research.google.com/github/Krunalrakholiya/Python-Projects-/blob/main/Higher_or_Lower_search_per_post_Python.ipynb\" target=\"_parent\"><img src=\"https://colab.research.google.com/assets/colab-badge.svg\" alt=\"Open In Colab\"/></a>"
      ]
    },
    {
      "cell_type": "code",
      "execution_count": null,
      "metadata": {
        "id": "eeKH8nxxdA8Y"
      },
      "outputs": [],
      "source": [
        "# Higher or Lower search per post"
      ]
    },
    {
      "cell_type": "code",
      "source": [
        "#1. break down the problem\n",
        "\n",
        "\n",
        "\n",
        "\n",
        "\n",
        "# use if statement to check if user is correct.\n",
        "# give user feedback on their guess\n",
        "# score keeping\n",
        "# make a game repeatable\n",
        "# making account at position B become the next account at position A"
      ],
      "metadata": {
        "id": "AlAaZJ2exQvg"
      },
      "execution_count": null,
      "outputs": []
    },
    {
      "cell_type": "code",
      "source": [
        "# 2. start with the easiest one  (generate a todo list and breakdown in a comments )"
      ],
      "metadata": {
        "id": "a8lLUCp3xZh_"
      },
      "execution_count": null,
      "outputs": []
    },
    {
      "cell_type": "code",
      "source": [
        "#1 display the art\n",
        "# from art import logo\n",
        "# print(logo)\n",
        "!mkdir /content/content\n",
        "!mv /content/game_data.py /content/content/game_data.py\n",
        "from content.game_data import data\n"
      ],
      "metadata": {
        "collapsed": true,
        "id": "OehJBfvPxe1R"
      },
      "execution_count": null,
      "outputs": []
    },
    {
      "cell_type": "code",
      "source": [
        "\n",
        "import random\n",
        "\n",
        "#choose a random element from game data\n",
        "def format_data(account):\n",
        "  '''format the account data into printable format'''\n",
        "  account_name = account[\"keyword\"]\n",
        "  account_vol = account[\"searchVolume\"]\n",
        "  account_author = account[\"author\"]\n",
        "  return f\"{account_name}, a {account_vol}, from {account_author}\"\n",
        "\n",
        "\n"
      ],
      "metadata": {
        "colab": {
          "base_uri": "https://localhost:8080/"
        },
        "id": "QJmVFFwNxq6W",
        "outputId": "38a1e2b5-d511-4b55-88de-9eea5c574886"
      },
      "execution_count": null,
      "outputs": [
        {
          "output_type": "stream",
          "name": "stdout",
          "text": [
            "Compare A: True Detective, a 450000, from Code Computerlove\n",
            "Compare B: Flamengo, a 9140000, from Agência Brasília\n"
          ]
        }
      ]
    },
    {
      "cell_type": "code",
      "source": [
        "#3. format the account data into printable format.\n",
        "score = 0\n",
        "game_should_continue = True\n",
        "# 2. generate random account from the game data\n",
        "while game_should_continue:\n",
        "  account_a = account_b\n",
        "  account_b = random.choice(data)\n",
        "  if account_a == account_b:\n",
        "    account_b = random.choice(data) #regerate account_b to get different value from account_a\n",
        "\n",
        "  print(f\"Compare A: {format_data(account_a)}\")\n",
        "  print(f\"Against B: {format_data(account_b)}\")\n",
        "  # 3. ask user for a guess\n",
        "  guess = input(\"Who has more followers? Type 'A' or 'B': \").lower()\n",
        "\n",
        "  print(\"\\n\" * 20)\n",
        "  a_follower_count = account_a[\"follower_count\"]\n",
        "  b_follower_count = account_b[\"follower_count\"]\n",
        "\n",
        "  if is_correct:\n",
        "    score += 1\n",
        "    print(f\"You're Right! current score: {score}.\")\n",
        "  else:\n",
        "    print(f\"sorry, That's wrong. Final score. {score}.\")\n",
        "    game_should_continue = False"
      ],
      "metadata": {
        "id": "GBi4a5JZx1wq",
        "collapsed": true
      },
      "execution_count": null,
      "outputs": []
    },
    {
      "cell_type": "code",
      "source": [],
      "metadata": {
        "id": "6riSJGCGx24Q"
      },
      "execution_count": null,
      "outputs": []
    },
    {
      "cell_type": "code",
      "source": [
        "\n"
      ],
      "metadata": {
        "id": "LibokhTo0Wqb"
      },
      "execution_count": null,
      "outputs": []
    },
    {
      "cell_type": "code",
      "source": [],
      "metadata": {
        "id": "n1N6cwrW0c7B"
      },
      "execution_count": null,
      "outputs": []
    }
  ]
}
