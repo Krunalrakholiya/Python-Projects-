{
  "nbformat": 4,
  "nbformat_minor": 0,
  "metadata": {
    "colab": {
      "provenance": [],
      "authorship_tag": "ABX9TyOMR84ErLIAPy694gE7CUDE",
      "include_colab_link": true
    },
    "kernelspec": {
      "name": "python3",
      "display_name": "Python 3"
    },
    "language_info": {
      "name": "python"
    }
  },
  "cells": [
    {
      "cell_type": "markdown",
      "metadata": {
        "id": "view-in-github",
        "colab_type": "text"
      },
      "source": [
        "<a href=\"https://colab.research.google.com/github/Krunalrakholiya/Python-Projects-/blob/main/Intermediate_Python_Coffee_Machine_py.ipynb\" target=\"_parent\"><img src=\"https://colab.research.google.com/assets/colab-badge.svg\" alt=\"Open In Colab\"/></a>"
      ]
    },
    {
      "cell_type": "code",
      "execution_count": 3,
      "metadata": {
        "id": "nwGMfCdup4I2"
      },
      "outputs": [],
      "source": [
        "MENU = {\n",
        "    \"espresso\": {\n",
        "        \"ingredients\": {\n",
        "            \"water\": 50,\n",
        "            \"coffee\": 18,\n",
        "        },\n",
        "        \"cost\": 1.5,\n",
        "    },\n",
        "    \"latte\": {\n",
        "        \"ingredients\": {\n",
        "            \"water\": 200,\n",
        "            \"milk\": 150,\n",
        "            \"coffee\": 24,\n",
        "        },\n",
        "        \"cost\": 2.5,\n",
        "    },\n",
        "    \"cappuccino\": {\n",
        "        \"ingredients\": {\n",
        "            \"water\": 250,\n",
        "            \"milk\": 100,\n",
        "            \"coffee\": 24,\n",
        "        },\n",
        "        \"cost\": 3.0,\n",
        "    }\n",
        "}\n",
        "\n",
        "profit = 0\n",
        "resources = {\n",
        "    \"water\": 300,\n",
        "    \"milk\": 200,\n",
        "    \"coffee\": 100,\n",
        "}\n"
      ]
    },
    {
      "cell_type": "markdown",
      "source": [
        "# 1. Prompt user by asking “ What would you like? (espresso/latte/cappuccino): ”\n",
        "# a. Check the user’s input to decide what to do next.\n",
        "# b. The prompt should show every time action has completed, e.g. once the drink is\n",
        "# dispensed. The prompt should show again to serve the next customer."
      ],
      "metadata": {
        "id": "uoJ4tvVZq8Ob"
      }
    },
    {
      "cell_type": "markdown",
      "source": [
        "2. Turn off the Coffee Machine by entering “ off ” to the prompt.\n",
        "a. For maintainers of the coffee machine, they can use “off” as the secret word to turn off\n",
        "the machine. Your code should end execution when this happens.\n",
        "\n",
        "3. Print report.\n",
        "a. When the user enters “report” to the prompt, a report should be generated that shows\n",
        "the current resource values. e.g.\n",
        "Water: 100ml\n",
        "Milk: 50ml\n",
        "Coffee: 76g\n",
        "Money: $2.5"
      ],
      "metadata": {
        "id": "uKAP26cqsoVW"
      }
    },
    {
      "cell_type": "markdown",
      "source": [],
      "metadata": {
        "id": "CTaxq1JJtlzB"
      }
    },
    {
      "cell_type": "code",
      "source": [
        "def  is_resource_sufficient(order_ingredients):\n",
        "    \"\"\"Returns True when order can be made, False if ingredients are insufficient.\"\"\"\n",
        "    for item in order_ingredients:\n",
        "        if order_ingredients[item] >= resources[item]:\n",
        "            print(f\"​Sorry there is not enough {item}.\")\n",
        "            return False\n",
        "        return True\n",
        "\n",
        "# 5\n",
        "def process_coins():\n",
        "    \"\"\"Returns the total calculated from coins inserted.\"\"\"\n",
        "    print(\"Please insert coins.\")\n",
        "    total = int(input(\"how many quarters?: \")) * 0.25\n",
        "    total += int(input(\"how many dimes?: \")) * 0.1\n",
        "    total += int(input(\"how many nickles?: \")) * 0.05\n",
        "    total += int(input(\"how many pennies?: \")) * 0.01\n",
        "    return total\n",
        "\n",
        "\n",
        "\n",
        "\n",
        "# 6\n",
        "def is_transaction_successful(money_received, drink_cost):\n",
        "    \"\"\"Return True when the payment is accepted, or False if money is insufficient.\"\"\"\n",
        "    if money_received >= drink_cost:\n",
        "        change = round(money_received - drink_cost, 2)\n",
        "        print(f\"Here is ${change} in change.\")\n",
        "        global profit\n",
        "        profit += drink_cost\n",
        "        return True\n",
        "    else:\n",
        "        print(\"Sorry that's not enough money. Money refunded.\")\n",
        "        return False\n",
        "# 7\n",
        "def make_coffee(drink_name, order_ingredients):\n",
        "    \"\"\"Deduct the required ingredients from the resources.\"\"\"\n",
        "    for item in order_ingredients:\n",
        "        resources[item] -= order_ingredients[item]\n",
        "    print(f\"Here is your {drink_name} ☕️. Enjoy!\")\n",
        "\n",
        "\n",
        "\n",
        "\n",
        "is_on = True\n",
        "while True:\n",
        "  choice = input(\"What would you like? (espresso/latte/cappuccino): \")\n",
        "  if choice == \"off\":\n",
        "    is_on = False\n",
        "    # report  = print all the value of the resources\n",
        "  elif choice == \"report\":\n",
        "    print(f\"Water: {resources['water']}ml\")\n",
        "    print(f\"Milk: {resources['milk']}ml\")\n",
        "    print(f\"Coffee: {resources['coffee']}g\")\n",
        "    print(f\"Money: ${profit}\")\n",
        "  else:\n",
        "    drink = MENU(choice)\n",
        "    if is_resource_sufficient(drink[\"ingredients\"]):\n",
        "      # 5\n",
        "      payment = process_coins()\n",
        "      # 6\n",
        "      if is_transaction_successful(payment, drink[\"cost\"]):\n",
        "        # 7\n",
        "        make_coffee(choice, drink[\"ingredients\"])\n"
      ],
      "metadata": {
        "colab": {
          "base_uri": "https://localhost:8080/"
        },
        "id": "mqnJWp7orPu7",
        "outputId": "503f708a-d32a-4e57-c582-a21052fbbc0b"
      },
      "execution_count": null,
      "outputs": [
        {
          "output_type": "stream",
          "name": "stdout",
          "text": [
            "What would you like? (espresso/latte/cappuccino): report\n",
            "Water: 300ml\n",
            "Milk: 200ml\n",
            "Coffee: 100g\n",
            "Money: $0\n"
          ]
        }
      ]
    },
    {
      "cell_type": "code",
      "source": [],
      "metadata": {
        "id": "C2MM_0f8q5MM"
      },
      "execution_count": null,
      "outputs": []
    },
    {
      "cell_type": "code",
      "source": [],
      "metadata": {
        "id": "or1rvz5Zq-C6"
      },
      "execution_count": null,
      "outputs": []
    }
  ]
}